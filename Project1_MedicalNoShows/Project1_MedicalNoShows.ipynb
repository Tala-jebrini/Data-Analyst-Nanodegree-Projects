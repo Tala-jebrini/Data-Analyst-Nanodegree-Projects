{
 "cells": [
  {
   "cell_type": "markdown",
   "metadata": {
    "tags": []
   },
   "source": [
    "# Project: Investigate a Dataset - Medical Appointment No Shows\n",
    "\n",
    "## Table of Contents\n",
    "<ul>\n",
    "<li><a href=\"#intro\">Introduction</a></li>\n",
    "<li><a href=\"#wrangling\">Data Wrangling</a></li>\n",
    "<li><a href=\"#eda\">Exploratory Data Analysis</a></li>\n",
    "<li><a href=\"#conclusions\">Conclusions</a></li>\n",
    "</ul>"
   ]
  },
  {
   "cell_type": "markdown",
   "metadata": {},
   "source": [
    "<a id='intro'></a>\n",
    "\n",
    "## Introduction\n",
    "\n",
    "### Dataset Description  \n",
    "The dataset **\"Medical Appointment No Shows\"** contains records of **110,527** medical appointments, with information on whether or not the patient attended their scheduled appointment. The dataset aims to identify factors contributing to patient no-shows, which account for approximately **30%** of scheduled appointments.\n",
    "\n",
    "## Data Overview  \n",
    "The dataset includes **14 variables**, each representing different aspects of patient appointments and demographics. Below is a brief description of each column:\n",
    "\n",
    "- **PatientId** – Unique identifier for each patient.\n",
    "- **AppointmentID** – Unique identifier for each appointment.\n",
    "- **Gender** – Patient’s gender (Male/Female).\n",
    "- **DataMarcacaoConsulta** – Date of the scheduled appointment.\n",
    "- **DataAgendamento** – Date when the appointment was booked.\n",
    "- **Age** – Patient’s age.\n",
    "- **Neighbourhood** – The location where the appointment is scheduled.\n",
    "- **Scholarship** – Indicates whether the patient is enrolled in the [Bolsa Família](https://en.wikipedia.org/wiki/Bolsa_Fam%C3%ADlia) program (a social welfare program in Brazil).\n",
    "- **Hipertension** – Indicates whether the patient has hypertension (True/False).\n",
    "- **Diabetes** – Indicates whether the patient has diabetes (True/False).\n",
    "- **Alcoholism** – Indicates whether the patient has a history of alcoholism (True/False).\n",
    "- **Handcap** – Indicates whether the patient has any disability (True/False).\n",
    "- **SMS_received** – Number of reminder messages sent to the patient.\n",
    "- **No-show** – **Target variable** (True/False) – whether the patient attended the appointment or not.\n",
    "\n",
    "\n",
    "\n",
    "### Question(s) for Analysis\n",
    "\n",
    "1- What factors influence whether a patient will miss their scheduled medical appointment?\n",
    "\n",
    "2- How does age affect the probability of missing an appointment?\n",
    "\n",
    " "
   ]
  },
  {
   "cell_type": "code",
   "execution_count": null,
   "metadata": {
    "tags": []
   },
   "outputs": [],
   "source": [
    "import pandas as pd\n",
    "import numpy as np \n",
    "import matplotlib.pyplot as plt\n",
    "import seaborn as sns"
   ]
  },
  {
   "cell_type": "markdown",
   "metadata": {},
   "source": [
    "<a id='wrangling'></a>\n",
    "## Data Wrangling\n"
   ]
  },
  {
   "cell_type": "markdown",
   "metadata": {},
   "source": [
    "\n",
    "### Data Cleaning"
   ]
  },
  {
   "cell_type": "code",
   "execution_count": null,
   "metadata": {
    "tags": []
   },
   "outputs": [],
   "source": [
    "# Load the dataset\n",
    "df = pd.read_csv(\"medical_appointment_no_shows.csv\")\n",
    "df.shape"
   ]
  },
  {
   "cell_type": "markdown",
   "metadata": {},
   "source": [
    "The dataset consists of **110,527** recorde (rows) and **14 columns**"
   ]
  },
  {
   "cell_type": "code",
   "execution_count": null,
   "metadata": {},
   "outputs": [],
   "source": [
    "df.head()"
   ]
  },
  {
   "cell_type": "markdown",
   "metadata": {},
   "source": [
    "Here we can take an overview of the data shape and values "
   ]
  },
  {
   "cell_type": "code",
   "execution_count": null,
   "metadata": {},
   "outputs": [],
   "source": [
    "df.info()"
   ]
  },
  {
   "cell_type": "markdown",
   "metadata": {},
   "source": [
    "#### 1. Data Types and Memory Usage\n",
    "- The dataset consists of **110,527 rows and 14 columns**, using **11.8+ MB** of memory.\n",
    "- The data includes **a mix of numerical (`int64`, `float64`) and (`object`) types**.\n",
    "- **No missing values** are present; all columns have 110,527 non-null entries.\n",
    "\n",
    "#### 2. Necessary Data Type Conversions\n",
    "- `PatientId` is stored as **float64**, but since IDs don’t require decimals, it should be converted to **int64**.\n",
    "- `ScheduledDay` and `AppointmentDay` are **object** types instead of datetime. They need to be converted for proper date analysis.\n",
    "- **Many categorical variables** are stored as `object` (strings), but should be converted to `category` type to optimize memory usage.\n"
   ]
  },
  {
   "cell_type": "code",
   "execution_count": null,
   "metadata": {},
   "outputs": [],
   "source": [
    "df.describe()"
   ]
  },
  {
   "cell_type": "markdown",
   "metadata": {},
   "source": [
    "The **minimum age is -1**, which is **impossible** and should be corrected"
   ]
  },
  {
   "cell_type": "code",
   "execution_count": null,
   "metadata": {},
   "outputs": [],
   "source": [
    "df.nunique()"
   ]
  },
  {
   "cell_type": "markdown",
   "metadata": {},
   "source": [
    "\n",
    "\n",
    "- **62,299 unique patients** (`PatientId`), indicating that some patients have multiple appointments.\n",
    "- **110,527 unique appointments** (`AppointmentID`), confirming each row represents an individual appointment.\n",
    "- **81 different neighborhoods**, meaning appointments were scheduled across multiple locations.\n"
   ]
  },
  {
   "cell_type": "markdown",
   "metadata": {},
   "source": [
    "- **Categorical Variables to Convert**:\n",
    "  - `Gender` – Binary category (Male/Female).\n",
    "  - `Neighbourhood` – 81 unique values, representing appointment locations.\n",
    "  - `Scholarship`, `Hypertension`, `Diabetes`, `Alcoholism`, `SMS_received`, `No-show` – All **binary** (0 = No, 1 = Yes).\n",
    "  - `Handcap` – Contains **five unique values (0, 1, 2, 3, 4)**"
   ]
  },
  {
   "cell_type": "code",
   "execution_count": null,
   "metadata": {},
   "outputs": [],
   "source": [
    "df['Handcap'].value_counts()"
   ]
  },
  {
   "cell_type": "markdown",
   "metadata": {},
   "source": [
    "The majority of patients (**108,286**) have **no disability (`0`)**, while a smaller number have disabilities ranging from **1 to 4**. Since higher values are rare, we might consider grouping them into a **binary category** (`0 = No disability`, `1+ = Has disability`)."
   ]
  },
  {
   "cell_type": "code",
   "execution_count": null,
   "metadata": {},
   "outputs": [],
   "source": [
    "df['Age'].value_counts()"
   ]
  },
  {
   "cell_type": "markdown",
   "metadata": {},
   "source": [
    "- The dataset contains **104 unique age values**, ranging from **-1 to 115**.\n",
    "- The most common age is **0 (3,539 occurrences)**, which likely represents newborns or infants.\n",
    "- Ages **1, 49, 52, and 53** are also frequent, each with over **1,500 occurrences**.\n",
    "- The presence of **negative values (-1)** is an anomaly and should be removed or corrected."
   ]
  },
  {
   "cell_type": "markdown",
   "metadata": {},
   "source": [
    "Dataset for analysis, the following cleaning steps are required:\n",
    "1. **Convert date columns (`ScheduledDay`, `AppointmentDay`) to datetime format** for easier analysis.\n"
   ]
  },
  {
   "cell_type": "code",
   "execution_count": null,
   "metadata": {},
   "outputs": [],
   "source": [
    "# Convert date columns to datetime format\n",
    "df[\"ScheduledDay\"] = pd.to_datetime(df[\"ScheduledDay\"])\n",
    "df[\"AppointmentDay\"] = pd.to_datetime(df[\"AppointmentDay\"])"
   ]
  },
  {
   "cell_type": "markdown",
   "metadata": {},
   "source": [
    "2. **Change `PatientId` from `float64` to `int64`**, as patient IDs do not require decimal points.\n"
   ]
  },
  {
   "cell_type": "code",
   "execution_count": null,
   "metadata": {},
   "outputs": [],
   "source": [
    "# Convert PatientId to integer\n",
    "df[\"PatientId\"] = df[\"PatientId\"].astype(\"int64\")\n"
   ]
  },
  {
   "cell_type": "markdown",
   "metadata": {},
   "source": [
    "3. **Convert categorical variables (`Gender`, `Neighbourhood`, etc.) to category type** for optimized performance.\n"
   ]
  },
  {
   "cell_type": "markdown",
   "metadata": {},
   "source": [
    "#### Categorical Variables\n",
    "The following columns contain categorical data and should be converted to the **category** data type for optimized storage and analysis:\n",
    "1. **Gender** – Binary category (Male/Female).\n",
    "2. **Neighbourhood** – Contains **81 unique values**, representing different locations.\n",
    "3. **Scholarship** – Binary (0 = No, 1 = Yes).\n",
    "4. **Hypertension** – Binary (0 = No, 1 = Yes).\n",
    "5. **Diabetes** – Binary (0 = No, 1 = Yes).\n",
    "6. **Alcoholism** – Binary (0 = No, 1 = Yes).\n",
    "7. **Handcap** – Multiple levels (0, 1, 2, 3, 4) but can be simplified.\n",
    "8. **SMS_received** – Binary (0 = No, 1 = Yes).\n",
    "9. **No-show** – Binary (0 = Show, 1 = No-show), though it might be stored as a string and needs conversion.\n"
   ]
  },
  {
   "cell_type": "code",
   "execution_count": null,
   "metadata": {},
   "outputs": [],
   "source": [
    "# Convert categorical variables to category type\n",
    "categorical_cols = [\"Gender\",\"Handcap\", \"Neighbourhood\", \"Scholarship\", \"Hipertension\", \"Diabetes\", \"Alcoholism\", \"SMS_received\", \"No-show\"]\n",
    "df[categorical_cols] = df[categorical_cols].astype(\"category\")"
   ]
  },
  {
   "cell_type": "markdown",
   "metadata": {},
   "source": [
    "4. **Handle the incorrect `Age` values** by removing or correcting negative values."
   ]
  },
  {
   "cell_type": "code",
   "execution_count": null,
   "metadata": {},
   "outputs": [],
   "source": [
    "# Handle incorrect age values (remove negative ages)\n",
    "df = df[df[\"Age\"] >= 0]"
   ]
  },
  {
   "cell_type": "markdown",
   "metadata": {},
   "source": [
    "#### Confirm changes"
   ]
  },
  {
   "cell_type": "code",
   "execution_count": null,
   "metadata": {},
   "outputs": [],
   "source": [
    "# Confirm changes\n",
    "df.info()"
   ]
  },
  {
   "cell_type": "markdown",
   "metadata": {},
   "source": [
    "### **DataFrame Structure After Cleaning**\n",
    "\n",
    "- **Total Entries**: The dataset now contains **110,526 rows**, meaning one row removed which is invalid `Age` value `-1`).\n",
    "\n",
    "- **Memory Usage**: The dataset now uses **6.0 MB**, which is significantly reduced from 11.8+ MB after converting categorical columns.\n",
    "\n",
    "### **Data Type Optimizations**\n",
    "- **`PatientId`** is now stored as an **integer (`int64`)**, which is more appropriate than `float64`.\n",
    "- **`ScheduledDay`** and **`AppointmentDay`** have been properly converted to **datetime64**, allowing for easier date operations.\n",
    "- **8 categorical columns** (`Gender`, `Neighbourhood`, `Scholarship`, `Hypertension`, `Diabetes`, `Alcoholism`, `SMS_received`, `No-show`) were converted to **category**, improving performance.\n"
   ]
  },
  {
   "cell_type": "code",
   "execution_count": null,
   "metadata": {},
   "outputs": [],
   "source": [
    "df.nunique()"
   ]
  },
  {
   "cell_type": "markdown",
   "metadata": {},
   "source": [
    "<a id='eda'></a>\n",
    "## Exploratory Data Analysis\n",
    "\n",
    "### Research Question 1 \n",
    "\n",
    "What factors influence whether a patient will miss their scheduled medical appointment?\n",
    "\n",
    "### Research Question 2\n",
    "How does age affect the probability of missing an appointment?"
   ]
  },
  {
   "cell_type": "code",
   "execution_count": null,
   "metadata": {
    "tags": []
   },
   "outputs": [],
   "source": [
    "# Plotting the distribution of No-show\n",
    "plt.figure(figsize=(6, 4))\n",
    "sns.countplot(x='No-show', data=df, palette=\"Set2\")\n",
    "plt.title(\"Distribution of No-show\")\n",
    "plt.xlabel(\"No-show (Yes/No)\")\n",
    "plt.ylabel(\"Count\")\n",
    "plt.show()\n"
   ]
  },
  {
   "cell_type": "markdown",
   "metadata": {},
   "source": [
    "### Distribution of No-show\n",
    "\n",
    "In this plot, I visualized the distribution of the **No-show** variable, which indicates whether a patient attended or missed their scheduled appointment. The plot shows that the majority of patients attended their appointments (around **90,000**), while a smaller portion (around **21,000**) missed their appointments. This gives us an overall sense of the proportion of no-shows in the dataset (about **30% no-shows** and **70% attendance**).\n"
   ]
  },
  {
   "cell_type": "code",
   "execution_count": null,
   "metadata": {},
   "outputs": [],
   "source": [
    "# Create histograms for Age vs. No-show\n",
    "plt.figure(figsize=(10, 6))\n",
    "\n",
    "# Histogram for patients who attended (No-show == 'No')\n",
    "sns.histplot(df[df['No-show'] == 'No']['Age'], color='blue', label='Attended', bins=30, kde=False, stat='count', alpha=0.6)\n",
    "\n",
    "# Histogram for patients who did not attend (No-show == 'Yes')\n",
    "sns.histplot(df[df['No-show'] == 'Yes']['Age'], color='red', label='No-show', bins=30, kde=False, stat='count', alpha=0.6)\n",
    "\n",
    "# Calculate mean and standard deviation using NumPy\n",
    "mean_age = np.mean(df[df['No-show'] == 'No']['Age'])\n",
    "std_age = np.std(df[df['No-show'] == 'No']['Age'], ddof=1)  # ddof=1 for sample standard deviation\n",
    "\n",
    "# Plot mean and standard deviation lines\n",
    "plt.axvline(mean_age, color='black', linestyle='--', label=f'Attended Mean')\n",
    "plt.axvline(mean_age + std_age, color='green', linestyle=':', label=f'Attended SD')\n",
    "plt.axvline(mean_age - std_age, color='green', linestyle=':')\n",
    "\n",
    "# Customize the plot\n",
    "plt.title(\"Age Distribution by No-show Status (Count of Patients)\")\n",
    "plt.xlabel(\"Age\")\n",
    "plt.ylabel(\"Count of Patients\")\n",
    "plt.legend()\n",
    "plt.show()\n",
    "\n"
   ]
  },
  {
   "cell_type": "markdown",
   "metadata": {},
   "source": [
    "\n",
    "### Age Distribution by No-show Status\n",
    "\n",
    "This plot compares the **age distribution** for patients who attended their appointments (**blue**) and those who missed them (**red**). I also added vertical lines representing the **mean age** (black dashed line) and **one standard deviation** above and below the mean (green dotted lines) for the attended group.\n",
    "\n",
    "- The **mean age** for patients who attended is **37 years**, with a **standard deviation of 12 years and 62 years**.\n",
    "- The plot shows that most of the attended patients fall within a central age range, while the no-show group shows a wider spread of ages.\n",
    "\n",
    "This analysis helps to understand how **age** may influence the likelihood of attending or missing an appointment.\n"
   ]
  },
  {
   "cell_type": "code",
   "execution_count": null,
   "metadata": {},
   "outputs": [],
   "source": [
    "plt.figure(figsize=(8, 5))\n",
    "sns.boxplot(x=df['Age'], color=\"lightblue\")\n",
    "plt.title(\"Boxplot of Age\")\n",
    "plt.xlabel(\"Age\")\n",
    "plt.show()\n"
   ]
  },
  {
   "cell_type": "code",
   "execution_count": null,
   "metadata": {},
   "outputs": [],
   "source": [
    "- The box represents the **interquartile range (IQR)** (25th to 75th percentile).  \n",
    "- The line inside the box is the **median age**.  \n",
    "- The whiskers extend to **1.5 times the IQR**.  \n",
    "- Any points outside the whiskers are **potential outliers**, which may indicate extreme values in the dataset.  \n"
   ]
  },
  {
   "cell_type": "markdown",
   "metadata": {},
   "source": [
    "<a id='conclusions'></a>\n",
    "## Conclusions\n",
    "\n",
    "### **Data Wrangling**  \n",
    "- Cleaned and optimized data by fixing types, handling incorrect values, and converting categorical variables.  \n",
    "\n",
    "### **Exploratory Data Analysis**  \n",
    "- **70% of patients attended, 30% were no-shows**.  \n",
    "- **Average age of attendees: 37 years (SD: 12)**.  \n",
    "- **Age impacts attendance**, with variations across age groups.  \n",
    "- **Box plot shows outliers**, indicating extreme values.  \n",
    "\n",
    "### **Key Takeaways**  \n",
    "- No-shows are a significant issue.  \n",
    "- Age plays a role in appointment attendance.  \n",
    "- Data is now ready for deeper analysis.  \n",
    "\n",
    "\n"
   ]
  },
  {
   "cell_type": "code",
   "execution_count": null,
   "metadata": {
    "tags": []
   },
   "outputs": [],
   "source": [
    "# Running this cell will execute a bash command to convert this notebook to an .html file\n",
    "!python -m nbconvert --to html Investigate_a_Dataset.ipynb"
   ]
  }
 ],
 "metadata": {
  "kernelspec": {
   "display_name": "Python 3 (ipykernel)",
   "language": "python",
   "name": "python3"
  },
  "language_info": {
   "codemirror_mode": {
    "name": "ipython",
    "version": 3
   },
   "file_extension": ".py",
   "mimetype": "text/x-python",
   "name": "python",
   "nbconvert_exporter": "python",
   "pygments_lexer": "ipython3",
   "version": "3.10.13"
  }
 },
 "nbformat": 4,
 "nbformat_minor": 4
}
